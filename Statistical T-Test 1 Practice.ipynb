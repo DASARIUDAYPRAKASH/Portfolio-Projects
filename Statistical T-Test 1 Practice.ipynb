{
 "cells": [
  {
   "cell_type": "markdown",
   "id": "ecc4f4a1",
   "metadata": {},
   "source": [
    "# Performing T-Test On Walmart Dataset"
   ]
  },
  {
   "cell_type": "markdown",
   "id": "6188732e",
   "metadata": {},
   "source": [
    "## Problem Statement : \n",
    "### 1). For Given Walmart Store Sales Data using different types of T-TEST'S find out the statistical evidence for questions  asked from management"
   ]
  },
  {
   "cell_type": "code",
   "execution_count": 330,
   "id": "a7bd9dd2",
   "metadata": {},
   "outputs": [],
   "source": [
    "# Importing the libraries\n",
    "import pandas as pd\n",
    "import numpy as np\n",
    "import matplotlib.pyplot as plt\n",
    "import seaborn as sns"
   ]
  },
  {
   "cell_type": "code",
   "execution_count": 331,
   "id": "d22a71ab",
   "metadata": {},
   "outputs": [],
   "source": [
    "# Loading the dataset\n",
    "df=pd.read_csv('Walmart DataSet.csv')"
   ]
  },
  {
   "cell_type": "code",
   "execution_count": 332,
   "id": "73fde827",
   "metadata": {},
   "outputs": [
    {
     "data": {
      "text/html": [
       "<div>\n",
       "<style scoped>\n",
       "    .dataframe tbody tr th:only-of-type {\n",
       "        vertical-align: middle;\n",
       "    }\n",
       "\n",
       "    .dataframe tbody tr th {\n",
       "        vertical-align: top;\n",
       "    }\n",
       "\n",
       "    .dataframe thead th {\n",
       "        text-align: right;\n",
       "    }\n",
       "</style>\n",
       "<table border=\"1\" class=\"dataframe\">\n",
       "  <thead>\n",
       "    <tr style=\"text-align: right;\">\n",
       "      <th></th>\n",
       "      <th>Store</th>\n",
       "      <th>Date</th>\n",
       "      <th>Weekly_Sales</th>\n",
       "      <th>Holiday_Flag</th>\n",
       "      <th>Temperature</th>\n",
       "      <th>Fuel_Price</th>\n",
       "      <th>CPI</th>\n",
       "      <th>Unemployment</th>\n",
       "    </tr>\n",
       "  </thead>\n",
       "  <tbody>\n",
       "    <tr>\n",
       "      <th>0</th>\n",
       "      <td>1</td>\n",
       "      <td>05-02-2010</td>\n",
       "      <td>1643690.90</td>\n",
       "      <td>0</td>\n",
       "      <td>42.31</td>\n",
       "      <td>2.572</td>\n",
       "      <td>211.096358</td>\n",
       "      <td>8.106</td>\n",
       "    </tr>\n",
       "    <tr>\n",
       "      <th>1</th>\n",
       "      <td>1</td>\n",
       "      <td>12-02-2010</td>\n",
       "      <td>1641957.44</td>\n",
       "      <td>1</td>\n",
       "      <td>38.51</td>\n",
       "      <td>2.548</td>\n",
       "      <td>211.242170</td>\n",
       "      <td>8.106</td>\n",
       "    </tr>\n",
       "    <tr>\n",
       "      <th>2</th>\n",
       "      <td>1</td>\n",
       "      <td>19-02-2010</td>\n",
       "      <td>1611968.17</td>\n",
       "      <td>0</td>\n",
       "      <td>39.93</td>\n",
       "      <td>2.514</td>\n",
       "      <td>211.289143</td>\n",
       "      <td>8.106</td>\n",
       "    </tr>\n",
       "    <tr>\n",
       "      <th>3</th>\n",
       "      <td>1</td>\n",
       "      <td>26-02-2010</td>\n",
       "      <td>1409727.59</td>\n",
       "      <td>0</td>\n",
       "      <td>46.63</td>\n",
       "      <td>2.561</td>\n",
       "      <td>211.319643</td>\n",
       "      <td>8.106</td>\n",
       "    </tr>\n",
       "    <tr>\n",
       "      <th>4</th>\n",
       "      <td>1</td>\n",
       "      <td>05-03-2010</td>\n",
       "      <td>1554806.68</td>\n",
       "      <td>0</td>\n",
       "      <td>46.50</td>\n",
       "      <td>2.625</td>\n",
       "      <td>211.350143</td>\n",
       "      <td>8.106</td>\n",
       "    </tr>\n",
       "  </tbody>\n",
       "</table>\n",
       "</div>"
      ],
      "text/plain": [
       "   Store        Date  Weekly_Sales  Holiday_Flag  Temperature  Fuel_Price  \\\n",
       "0      1  05-02-2010    1643690.90             0        42.31       2.572   \n",
       "1      1  12-02-2010    1641957.44             1        38.51       2.548   \n",
       "2      1  19-02-2010    1611968.17             0        39.93       2.514   \n",
       "3      1  26-02-2010    1409727.59             0        46.63       2.561   \n",
       "4      1  05-03-2010    1554806.68             0        46.50       2.625   \n",
       "\n",
       "          CPI  Unemployment  \n",
       "0  211.096358         8.106  \n",
       "1  211.242170         8.106  \n",
       "2  211.289143         8.106  \n",
       "3  211.319643         8.106  \n",
       "4  211.350143         8.106  "
      ]
     },
     "execution_count": 332,
     "metadata": {},
     "output_type": "execute_result"
    }
   ],
   "source": [
    "df.head()# first look at the dataset"
   ]
  },
  {
   "cell_type": "markdown",
   "id": "c76baad5",
   "metadata": {},
   "source": [
    "## _________________________________________________________________\n",
    "\n",
    "# One Sample T-test\n",
    "- **It is Used to Compare the mean is greater or smaller than the popmean**"
   ]
  },
  {
   "cell_type": "markdown",
   "id": "b4421da7",
   "metadata": {},
   "source": [
    "## Questions  :\n",
    "## Find out  the average sales of store 5 are above the industry average sales or not?"
   ]
  },
  {
   "cell_type": "markdown",
   "id": "1a6afbdf",
   "metadata": {},
   "source": [
    "### Assumption for T-TEST\n",
    "- **1). Sample Size Less than or equal to 30**\n",
    "- **2). Assuming the data is normally distributed**\n",
    "- **3). Homeginity in the sample groups**"
   ]
  },
  {
   "cell_type": "markdown",
   "id": "07769d06",
   "metadata": {},
   "source": [
    "### 1st Step Taking the Sample from the Population"
   ]
  },
  {
   "cell_type": "code",
   "execution_count": 333,
   "id": "cb1c2105",
   "metadata": {},
   "outputs": [],
   "source": [
    "store_20_sale = df[df['Store']==5]['Weekly_Sales'] # Taking the sales data of store 5"
   ]
  },
  {
   "cell_type": "code",
   "execution_count": 335,
   "id": "91e4fc39",
   "metadata": {},
   "outputs": [
    {
     "data": {
      "text/plain": [
       "1046964.8775617715"
      ]
     },
     "execution_count": 335,
     "metadata": {},
     "output_type": "execute_result"
    }
   ],
   "source": [
    "# finding the average of industry sales average which is nothing but all 45 store sales average data\n",
    "industry_average = df['Weekly_Sales'].mean() \n",
    "industry_average "
   ]
  },
  {
   "cell_type": "code",
   "execution_count": 336,
   "id": "15388699",
   "metadata": {},
   "outputs": [],
   "source": [
    "# Importing ttest1 sampele\n",
    "from scipy.stats import ttest_1samp"
   ]
  },
  {
   "cell_type": "markdown",
   "id": "ac2fe61e",
   "metadata": {},
   "source": [
    "## 2nd Step\n",
    "## Formulating Hypothesis\n",
    "### 1). NULL HYPOTHESIS : The Average Sale of store 5 is greater than Industry average Sales.\n",
    "### 2). Alternate HYPOTHESIS : The Average Sale of store 5 is lesser than Industry average Sales."
   ]
  },
  {
   "cell_type": "markdown",
   "id": "8f4d1a21",
   "metadata": {},
   "source": [
    "## 3rd Step\n",
    "### Statistical Test "
   ]
  },
  {
   "cell_type": "code",
   "execution_count": 337,
   "id": "15260612",
   "metadata": {},
   "outputs": [
    {
     "name": "stdout",
     "output_type": "stream",
     "text": [
      "got p_value as : 8.442393587141942e-185\n"
     ]
    }
   ],
   "source": [
    "# Performing ttest1samp\n",
    "t_statistic, p_value = ttest_1samp(store_20_sale,industry_average)\n",
    "print('got p_value as :',p_value) "
   ]
  },
  {
   "cell_type": "markdown",
   "id": "e2af1cb3",
   "metadata": {},
   "source": [
    "## 4th Step\n",
    "### Accpect or Reject Null Hypothesis"
   ]
  },
  {
   "cell_type": "code",
   "execution_count": 338,
   "id": "7c2dfa55",
   "metadata": {},
   "outputs": [
    {
     "name": "stdout",
     "output_type": "stream",
     "text": [
      "Reject the Null Hypothesis. the average sales of store 5 is Lesser than the Industry average sales\n"
     ]
    }
   ],
   "source": [
    "if p_value > 0.05:\n",
    "    print(\"Accpect the Null Hypothesis. the average sales of store 5 is Greater than the Industry average sales\")\n",
    "else:\n",
    "    print(\"Reject the Null Hypothesis. the average sales of store 5 is Lesser than the Industry average sales\") "
   ]
  },
  {
   "cell_type": "markdown",
   "id": "acb4db07",
   "metadata": {},
   "source": [
    "# Answer : \n",
    "### The Sales performance of store 5 is lower than the industry performance"
   ]
  },
  {
   "cell_type": "markdown",
   "id": "142b6226",
   "metadata": {},
   "source": [
    "## _________________________________________________________________\n",
    "# Two Sample T-Test\n",
    "- **It is Used to do Competative analysis between the two samples which are taken from the differenct population.**"
   ]
  },
  {
   "cell_type": "markdown",
   "id": "395df0d0",
   "metadata": {},
   "source": [
    "# Question:\n",
    "### Which store is performing well in sales and is there a significant difference in sales between stores 20 and 5 "
   ]
  },
  {
   "cell_type": "markdown",
   "id": "1bd7f62e",
   "metadata": {},
   "source": [
    "### 1st Step Taking the Sample from the Population"
   ]
  },
  {
   "cell_type": "code",
   "execution_count": 365,
   "id": "28138c22",
   "metadata": {},
   "outputs": [],
   "source": [
    "store_5 = df[df['Store']==5]['Weekly_Sales'] # taking the sales data of store 5 \n",
    "store_20 = df[df['Store']==20]['Weekly_Sales'] # taking the sales data of store 20 "
   ]
  },
  {
   "cell_type": "code",
   "execution_count": 366,
   "id": "ba193c56",
   "metadata": {},
   "outputs": [],
   "source": [
    "sample_store_5=np.random.choice(store_5,size=29,replace=False) # Taking the sample data from the population for store 5"
   ]
  },
  {
   "cell_type": "code",
   "execution_count": 367,
   "id": "4c49a5bb",
   "metadata": {},
   "outputs": [],
   "source": [
    "sample_store_20=np.random.choice(store_20,size=29,replace=False) # Taking the sample data from the population for store 20"
   ]
  },
  {
   "cell_type": "markdown",
   "id": "830864bc",
   "metadata": {},
   "source": [
    "## 2nd Step\n",
    "## Formulating Hypothesis\n",
    "### 1). NULL HYPOTHESIS : The store 5 has high sales than store 20\n",
    "### 2). Alternate HYPOTHESIS : The store 20 has more sales than store 5"
   ]
  },
  {
   "cell_type": "markdown",
   "id": "97caf89d",
   "metadata": {},
   "source": [
    "## 3rd Step\n",
    "### Statistical Test "
   ]
  },
  {
   "cell_type": "code",
   "execution_count": 368,
   "id": "e46cec2d",
   "metadata": {},
   "outputs": [
    {
     "name": "stdout",
     "output_type": "stream",
     "text": [
      "Got the P-Value as :  5.998880784814485e-59\n"
     ]
    }
   ],
   "source": [
    "from scipy.stats import ttest_ind\n",
    "t_statistic,p_value = ttest_ind(sample_store_5,sample_store_20)\n",
    "print('Got the P-Value as : ', p_value)"
   ]
  },
  {
   "cell_type": "markdown",
   "id": "6db94ce5",
   "metadata": {},
   "source": [
    "## 4th Step\n",
    "### Accpect or Reject Null Hypothesis"
   ]
  },
  {
   "cell_type": "code",
   "execution_count": 369,
   "id": "eba76c07",
   "metadata": {},
   "outputs": [
    {
     "name": "stdout",
     "output_type": "stream",
     "text": [
      "Reject the Null Hypothesis that the store 20 has more sales than store 5\n"
     ]
    }
   ],
   "source": [
    "if p_value>0.05:\n",
    "    print('Accpect the Null Hypothesis that the store 5 has high sales than store 36')\n",
    "else:\n",
    "    print('Reject the Null Hypothesis that the store 20 has more sales than store 5')\n"
   ]
  },
  {
   "cell_type": "markdown",
   "id": "56931542",
   "metadata": {},
   "source": [
    "# Answer : \n",
    "### we got the P-Value is Below 0.05. so the sales performance of store 20 is Better than the store 5 performance"
   ]
  },
  {
   "cell_type": "markdown",
   "id": "a6c14cd6",
   "metadata": {},
   "source": [
    "## _________________________________________________________________\n",
    "# Paired Sample T-Test\n",
    "- **It is Used to finding the Difference between two sample groups in different conditions, Ex: Before covid Stock Market performance and after covid performance of stock market.**"
   ]
  },
  {
   "cell_type": "markdown",
   "id": "4c5d7970",
   "metadata": {},
   "source": [
    "# Qustion : \n",
    "### Is there a significance difference between the first six months sales and last six month Sales. find out the statistical evidence with the help of Paired Sample T-Test"
   ]
  },
  {
   "cell_type": "markdown",
   "id": "1279d4f6",
   "metadata": {},
   "source": [
    "## Data Preprocessing for Statistical Test"
   ]
  },
  {
   "cell_type": "code",
   "execution_count": 370,
   "id": "51bbcadf",
   "metadata": {},
   "outputs": [],
   "source": [
    "# Grouping the Date Column\n",
    "df_stores_date = df.groupby('Date')['Weekly_Sales'].sum().reset_index()"
   ]
  },
  {
   "cell_type": "code",
   "execution_count": 371,
   "id": "12e9fe3f",
   "metadata": {},
   "outputs": [
    {
     "data": {
      "text/html": [
       "<div>\n",
       "<style scoped>\n",
       "    .dataframe tbody tr th:only-of-type {\n",
       "        vertical-align: middle;\n",
       "    }\n",
       "\n",
       "    .dataframe tbody tr th {\n",
       "        vertical-align: top;\n",
       "    }\n",
       "\n",
       "    .dataframe thead th {\n",
       "        text-align: right;\n",
       "    }\n",
       "</style>\n",
       "<table border=\"1\" class=\"dataframe\">\n",
       "  <thead>\n",
       "    <tr style=\"text-align: right;\">\n",
       "      <th></th>\n",
       "      <th>Date</th>\n",
       "      <th>Weekly_Sales</th>\n",
       "    </tr>\n",
       "  </thead>\n",
       "  <tbody>\n",
       "    <tr>\n",
       "      <th>0</th>\n",
       "      <td>01-04-2011</td>\n",
       "      <td>43458991.19</td>\n",
       "    </tr>\n",
       "    <tr>\n",
       "      <th>1</th>\n",
       "      <td>01-06-2012</td>\n",
       "      <td>48281649.72</td>\n",
       "    </tr>\n",
       "    <tr>\n",
       "      <th>2</th>\n",
       "      <td>01-07-2011</td>\n",
       "      <td>47578519.50</td>\n",
       "    </tr>\n",
       "    <tr>\n",
       "      <th>3</th>\n",
       "      <td>01-10-2010</td>\n",
       "      <td>42239875.87</td>\n",
       "    </tr>\n",
       "    <tr>\n",
       "      <th>4</th>\n",
       "      <td>02-03-2012</td>\n",
       "      <td>46861034.97</td>\n",
       "    </tr>\n",
       "    <tr>\n",
       "      <th>...</th>\n",
       "      <td>...</td>\n",
       "      <td>...</td>\n",
       "    </tr>\n",
       "    <tr>\n",
       "      <th>138</th>\n",
       "      <td>30-07-2010</td>\n",
       "      <td>44630363.42</td>\n",
       "    </tr>\n",
       "    <tr>\n",
       "      <th>139</th>\n",
       "      <td>30-09-2011</td>\n",
       "      <td>42195830.81</td>\n",
       "    </tr>\n",
       "    <tr>\n",
       "      <th>140</th>\n",
       "      <td>30-12-2011</td>\n",
       "      <td>46042461.04</td>\n",
       "    </tr>\n",
       "    <tr>\n",
       "      <th>141</th>\n",
       "      <td>31-08-2012</td>\n",
       "      <td>47159639.43</td>\n",
       "    </tr>\n",
       "    <tr>\n",
       "      <th>142</th>\n",
       "      <td>31-12-2010</td>\n",
       "      <td>40432519.00</td>\n",
       "    </tr>\n",
       "  </tbody>\n",
       "</table>\n",
       "<p>143 rows × 2 columns</p>\n",
       "</div>"
      ],
      "text/plain": [
       "           Date  Weekly_Sales\n",
       "0    01-04-2011   43458991.19\n",
       "1    01-06-2012   48281649.72\n",
       "2    01-07-2011   47578519.50\n",
       "3    01-10-2010   42239875.87\n",
       "4    02-03-2012   46861034.97\n",
       "..          ...           ...\n",
       "138  30-07-2010   44630363.42\n",
       "139  30-09-2011   42195830.81\n",
       "140  30-12-2011   46042461.04\n",
       "141  31-08-2012   47159639.43\n",
       "142  31-12-2010   40432519.00\n",
       "\n",
       "[143 rows x 2 columns]"
      ]
     },
     "execution_count": 371,
     "metadata": {},
     "output_type": "execute_result"
    }
   ],
   "source": [
    "df_stores_date # Looking at the data"
   ]
  },
  {
   "cell_type": "code",
   "execution_count": 372,
   "id": "27323bec",
   "metadata": {},
   "outputs": [
    {
     "name": "stderr",
     "output_type": "stream",
     "text": [
      "C:\\Users\\UDAY\\AppData\\Local\\Temp\\ipykernel_6248\\3443113469.py:2: UserWarning: Parsing dates in DD/MM/YYYY format when dayfirst=False (the default) was specified. This may lead to inconsistently parsed dates! Specify a format to ensure consistent parsing.\n",
      "  df_stores_date['Date']=pd.to_datetime(df_stores_date['Date'])\n"
     ]
    }
   ],
   "source": [
    "# Changing the data type of Date column to Date time type\n",
    "df_stores_date['Date']=pd.to_datetime(df_stores_date['Date'])"
   ]
  },
  {
   "cell_type": "code",
   "execution_count": 373,
   "id": "112e11d9",
   "metadata": {},
   "outputs": [
    {
     "name": "stdout",
     "output_type": "stream",
     "text": [
      "<class 'pandas.core.frame.DataFrame'>\n",
      "RangeIndex: 143 entries, 0 to 142\n",
      "Data columns (total 2 columns):\n",
      " #   Column        Non-Null Count  Dtype         \n",
      "---  ------        --------------  -----         \n",
      " 0   Date          143 non-null    datetime64[ns]\n",
      " 1   Weekly_Sales  143 non-null    float64       \n",
      "dtypes: datetime64[ns](1), float64(1)\n",
      "memory usage: 2.4 KB\n"
     ]
    }
   ],
   "source": [
    "df_stores_date.info() # Checking the dtypes"
   ]
  },
  {
   "cell_type": "code",
   "execution_count": 374,
   "id": "3c52405c",
   "metadata": {},
   "outputs": [
    {
     "data": {
      "text/plain": [
       "Timestamp('2012-12-10 00:00:00')"
      ]
     },
     "execution_count": 374,
     "metadata": {},
     "output_type": "execute_result"
    }
   ],
   "source": [
    "df_stores_date['Date'].max()  # Checking the Upper band of time frame"
   ]
  },
  {
   "cell_type": "code",
   "execution_count": 375,
   "id": "80bc0860",
   "metadata": {},
   "outputs": [
    {
     "data": {
      "text/plain": [
       "Timestamp('2010-01-10 00:00:00')"
      ]
     },
     "execution_count": 375,
     "metadata": {},
     "output_type": "execute_result"
    }
   ],
   "source": [
    "df_stores_date['Date'].min() # Checking the lower band of time frame"
   ]
  },
  {
   "cell_type": "code",
   "execution_count": 376,
   "id": "4c1fab4e",
   "metadata": {},
   "outputs": [],
   "source": [
    "strat_date ='2010-01-10'  # Creating a variable that consist of strat date\n",
    "end_date = '2010-06-10' # Creating a variable that consist of end date\n",
    "# Extracting the first 6 months sales\n",
    "first_6_months_sales = df_stores_date[(df_stores_date['Date']>strat_date)& (df_stores_date['Date']<end_date)]"
   ]
  },
  {
   "cell_type": "code",
   "execution_count": 377,
   "id": "6f8eb06f",
   "metadata": {},
   "outputs": [],
   "source": [
    "strat_date ='2010-06-10' # Creating a variable that consist of strat date\n",
    "end_date = '2010-11-01' # Creating a variable that consist of end date\n",
    "# Extracting the last 6 months sales\n",
    "Last_6_months_sales = df_stores_date[(df_stores_date['Date']>strat_date)& (df_stores_date['Date']<end_date)]"
   ]
  },
  {
   "cell_type": "markdown",
   "id": "be0f9b38",
   "metadata": {},
   "source": [
    "### 1st Step Taking the Sample from the Population"
   ]
  },
  {
   "cell_type": "code",
   "execution_count": 378,
   "id": "e8909990",
   "metadata": {},
   "outputs": [],
   "source": [
    "sample_first_half_year = np.random.choice(first_6_months_sales['Weekly_Sales'],size=29,replace=True)"
   ]
  },
  {
   "cell_type": "code",
   "execution_count": 379,
   "id": "c8e5f275",
   "metadata": {},
   "outputs": [],
   "source": [
    "sample_second_half_year = np.random.choice(Last_6_months_sales['Weekly_Sales'],size=29,replace=True)"
   ]
  },
  {
   "cell_type": "markdown",
   "id": "c97f8dc7",
   "metadata": {},
   "source": [
    "## 2nd Step\n",
    "## Formulating Hypothesis\n",
    "### 1). NULL HYPOTHESIS : There is a Difference in Sales between first six months and last six months\n",
    "### 2). Alternate HYPOTHESIS : There is no significance difference between both"
   ]
  },
  {
   "cell_type": "markdown",
   "id": "144d0af2",
   "metadata": {},
   "source": [
    "## 3rd Step\n",
    "### Statistical Test "
   ]
  },
  {
   "cell_type": "code",
   "execution_count": 380,
   "id": "8ae9951d",
   "metadata": {},
   "outputs": [
    {
     "name": "stdout",
     "output_type": "stream",
     "text": [
      "Got the P-Value as :  0.6538558967459448\n"
     ]
    }
   ],
   "source": [
    "from scipy.stats import ttest_rel\n",
    "t_statistic,p_value=ttest_rel(sample_first_half_year,sample_second_half_year)\n",
    "print('Got the P-Value as : ', p_value)"
   ]
  },
  {
   "cell_type": "markdown",
   "id": "c5ffbea8",
   "metadata": {},
   "source": [
    "## 4th Step\n",
    "### Accpect or Reject Null Hypothesis"
   ]
  },
  {
   "cell_type": "code",
   "execution_count": 381,
   "id": "70d40ec5",
   "metadata": {},
   "outputs": [
    {
     "name": "stdout",
     "output_type": "stream",
     "text": [
      "Accpect the Null Hypothesis..There is a difference between first six month sales and last Six month sales\n"
     ]
    }
   ],
   "source": [
    "if p_value>0.05:\n",
    "    print('Accpect the Null Hypothesis..There is a difference between first six month sales and last Six month sales')\n",
    "else:\n",
    "    print('Failed to Accpect the Null Hypothesis, There is no difference')"
   ]
  },
  {
   "cell_type": "markdown",
   "id": "6a4f5de3",
   "metadata": {},
   "source": [
    "# Answer:\n",
    "#### we got the p-value above 0.05. so There is a difference between first six month sales and last Six month sales"
   ]
  },
  {
   "cell_type": "markdown",
   "id": "f1823854",
   "metadata": {},
   "source": [
    "# Thank You!"
   ]
  },
  {
   "cell_type": "code",
   "execution_count": null,
   "id": "93b3f238",
   "metadata": {},
   "outputs": [],
   "source": []
  }
 ],
 "metadata": {
  "kernelspec": {
   "display_name": "Python 3 (ipykernel)",
   "language": "python",
   "name": "python3"
  },
  "language_info": {
   "codemirror_mode": {
    "name": "ipython",
    "version": 3
   },
   "file_extension": ".py",
   "mimetype": "text/x-python",
   "name": "python",
   "nbconvert_exporter": "python",
   "pygments_lexer": "ipython3",
   "version": "3.10.9"
  }
 },
 "nbformat": 4,
 "nbformat_minor": 5
}
